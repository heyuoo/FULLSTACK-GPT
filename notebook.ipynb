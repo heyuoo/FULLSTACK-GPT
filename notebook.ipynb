{
 "cells": [
  {
   "cell_type": "code",
   "execution_count": 8,
   "metadata": {},
   "outputs": [],
   "source": [
    "import subprocess\n",
    "from pydub import AudioSegment\n",
    "import math\n",
    "import openai\n",
    "import glob\n",
    "\n",
    "\n",
    "def extract_audio_from_video(video_path, audio_path):\n",
    "    command = [\"ffmpeg\", \"-i\", video_path, \"-vn\", audio_path, \"y\"]\n",
    "    subprocess.run(command)\n",
    "\n",
    "\n",
    "def cut_audio_in_chunks(audio_path, chunk_size, chunks_folder):\n",
    "    track = AudioSegment.from_mp3(audio_path)\n",
    "    chunk_len = chunk_size * 60 * 1000\n",
    "    chunks = math.ceil(len(track) / chunk_len)\n",
    "    for i in range(chunks):\n",
    "        start_time = i * chunk_len\n",
    "        end_time = (i + 1) * chunk_len\n",
    "\n",
    "        chunk = track[start_time:end_time]\n",
    "\n",
    "        chunk.export(f\"./{chunks_folder}/chunk_{i}.mp3\", format=\"mp3\")\n",
    "\n",
    "\n",
    "def transcribe_chunks(chunk_folder, destination):\n",
    "    files = glob.glob(f\"{chunk_folder}/*.mp3\")\n",
    "    for file in files:\n",
    "        with open(file, \"rb\") as audio_file, open(\n",
    "            destination, \"a\", encoding=\"utf-8\"\n",
    "        ) as text_file:\n",
    "            transcript = openai.audio.transcriptions.create(\n",
    "                model=\"whisper-1\",\n",
    "                file=audio_file,\n",
    "                language=\"ko\",\n",
    "            )\n",
    "            text_file.write(transcript.text)\n",
    "\n",
    "\n",
    "# def transcribe_chunks(chunk_folder, destination):\n",
    "#    files = glob.glob(f\"{chunk_folder}/*.mp3\")\n",
    "#    final_transcript = \"\"\n",
    "#    for file in files:\n",
    "#        with open(file, \"rb\") as audio_file:\n",
    "#            transcription = openai.audio.transcriptions.create(\n",
    "#                model=\"whisper-1\",\n",
    "#                file=audio_file,\n",
    "#                language=\"ko\",\n",
    "#            )\n",
    "#            final_transcript += transcription.text\n",
    "#    with open(destination, \"w\", encoding=\"utf-8\") as output_file:\n",
    "#        output_file.write(final_transcript)\n",
    "#\n",
    "#\n",
    "# transcribe_chunks(\"./files/chunks\", \"./files/transcript.txt\")"
   ]
  },
  {
   "cell_type": "code",
   "execution_count": null,
   "metadata": {},
   "outputs": [],
   "source": []
  },
  {
   "cell_type": "code",
   "execution_count": 22,
   "metadata": {},
   "outputs": [
    {
     "data": {
      "text/plain": [
       "Transcription(text='5. 철수와 영이 서로 경쟁하는 게임 사상 초유 순간이었지만 애플 서버를 터지게 만든 전설의 시리즈 오경게임 시즌2 나무 분송은 쿠키 결말에서 그리고 시즌3 미리보기 바로 시작합니다 많은 분들이 가장 궁금해하실 건 뭐니뭐니해도 앞으로 나올 게임들과 철수의 등장이죠 우선 철수와 영이가 서로 마주보고 있다는 점에서 기본적으로 두 팀으로 나누어 서로 경쟁하는 게임이라 생각하고요 운동회라는 컨셉과 영이 앞에 있는 퀸이 줄로 유추해보았을 때 박터트리기 게임을 베이스로 다른 부가적 게임들이 조합된 표정사료 게임이지 않을까 합니다 또한 마지막엔 마치 기찻길을 연상케 하는 장면과 신호가 나오는데 바로 기차를 떠올리게 하면서도 오징어 게임과 가장 어울릴 것 같은 게임은 단연코 트롤리 게임이죠 트롤리 딜레마 즉 브레이크가 고장난 트롤리 기차 앞에 5명의 인무가 서있는 상황 레일 변환기로 방향을 바꿀 수 있으나 바뀌게 될 레일에는 1명의 인무가 서있다면 당신은 방향을 바꾸시겠습니까? 다시 말해 다수를 구하기 위해 소수를 희생할 것인가 라는 딜레마이자 작품 내에 지속해서 등장하고 있는 레일을 위해서 작은 희생은 감수하자는 건가요? 신념과 같이 판단 그리고 지금 희생을 치루더라도 이번에 반드시 이 게임을 끝내야 합니다 기운의 선택을 연상시키기도 하는데요 오징어 게임과 너무나도 잘 어울리면서도 작품의 핵심을 깨툴고 있기도 한 이 트롤리 게임이 메인 게임과 조합된 북 게임으로서 등장하지 않을까 합니다 특히 쿠키 영상을 본 이후엔 작품 내에서 이미 등장했던 김첨지 뺨치는 복선들이 생각나는데요 어떻게 기차놀이 할까? 기차놀이 하는 것처럼 가면 돼! 시즌3에 등장할 기차관련 게임을 암시하고 있는 대사인 것 같고 특히 마지막 기운의 대사와 파이폭을 보던 중 생각난 게임인데 업그레이드 무궁화 게임도 재밌을 것 같습니다 사방에 철로가 깔려져 있고 기차가 지나다니는 가운데 얼어! 기찻길에서 멈추면 초록불로 변하며 기차가 다가오고 명의의 신호가 없을 때 움직이는 총살을 당하는 즉 기차한테 치워 죽을래 총살 당해 죽을래 라는 선택지를 끊임없이 내미는 또 다른 트롤리 딜레마로서 지옥같은 상황을 연출하는 것이죠 혹은 애초부터 철길로만 움직일 수 있는 설정도 재밌을 것 같은데요 즉 철길 옆은 낭떠러지 같은 요소들로 세팅해놓은 뒤 뒤에서는 기차가 다가오고 앞에서는 영희가 무궁화 꽃이 피었을 날 진행해서 영희가 움직임을 탐색 중일 땐 기차가 초록색불로 바뀌며 점점 다가오고 영희가 뒤를 돌았을 땐 기차가 멈추는 형태로 시간제한 대신 기차라는 살인기계를 통해 더욱더 잔인한 상황을 부여할 수도 있을 것 같습니다 혹은 운동회에서 많이 하면서도 그나마 기차 느낌이 나는 꼬리잡기 게임이 될 수도 있겠고요 꼬리를 잡힌 팀은 모두 쳐야 혹은 플레이 중 중간이 끊어질 시 끊어진 쪽을 기점으로 다시 두 그룹으로 나누고 그 두 그룹을 양쪽 기차길에 강제 배치한 뒤 상대방 팀이 트롤링 게임을 통해 어느 쪽을 죽일지 선택하는 이런 잔인한 퓨전 게임이 구성될 수도 있을 것 같습니다 또한 쿠키영상 가장 처음엔 96번, 100번, 353번의 뒷모습이 보이는데요 먼저 96번은 5인 6합 달리기에서 최! 성! 강대우가 잠시 데리고 왔었던 해병대 출신 참가자이죠 9번! 46! 6개입니다! 100번은 이번 시즌에 고구마를 책임지고 있는 캐릭터이자 100억 비치는 게 쉬운 줄 알아? 무려 100억의 채물을 가지고 있는 임정대 그리고 353번은 찾아보았으나 아직까지는 등장하지 않은 걸로 보이는데요 고로 사실상 새 인물이 나온 것에 대해 큰 의미는 없는 것 같고 새롭게 등장할 게임에서 같은 편이 된 자들이 아닐까 합니다 또한 현재 주요 인물들의 생존 사망을 정리해보면 이와 같은데요 아직까진 생각보다 꽤 많은 주요 인물들이 살아있는 걸 확인할 수 있죠 고로 본격적인 사륙은 시즌 3에서 이뤄질 것 같습니다 또한 이진욱 배우가 맡은 경석은 실화에서 죽었는데 왜 살아있는 걸로 체크했냐고 의문을 가지실 분들이 있을 것 같은데요 저는 경석이 58,000% 확률로 살아있다고 생각합니다 그 첫 번째 이유는 경석이 비중과 존재감이 너무 없다가 종국엔 더 허무하게 죽어버렸는데 이렇게 끝날 거면 애초에 등장을 시키지 않았어도 될 정도이기 때문이고요 아빠가 아무데나 들어가면 안 된다고 했지! 헤어지는 결심에 김지용 감독이 촬영을 맡았는데 여기서 총을 맞은 부위를 보여주지 않고 반대 시점으로 편집을 어색하게 보이면서까지 급하게 넘어갔다는 점 세 번째는 그를 죽인 병정이 노울의 계급인 세모였다는 점 마지막은 총도가 살짝 아래로 내려가 있다는 점인데요 아무래도 노울이 일부러 급소가 아닌 곳을 쏴서 장기매매팀에 넘긴 다음 그들을 급습해서 경석을 살려주게 될 것 같습니다 사실 시즌 1에서 인호가 장기적출을 눈치채고서도 너희들이 시체에서 장기를 떼어내서 팔든 장기를 통째로 씹어먹든 난 관심이 없어 눈감아주는 장면이 있어 다소 의아했었는데요 제때 장기를 기증받지 못해 아내를 잃게 된 그의 과거사가 아무래도 영향을 준 것으로 나타났죠 한편 인호는 사실상 곳곳에서 자신이 프론트맨이라는 힌트를 주고 있는데요 우선 오일남 때와 마찬가지로 기훈의 1번 참가자로 등장했다는 점 그리고 오...일...남? 오일남 오영일입니다 오영일 즉 번호도 1번 이름도 영일 자신의 가명이 이미 자신의 번호를 넣어 말해주었다는 점 심지어 기훈 씨가 정해주는 걸로 할게요 제 이름은 친구분이 이름 부르시길래 임기응변으로 잘 전례되긴 했지만 처음부터 기훈의 이름을 알고 있었다는 점 또한 왼손잡이임에도 불구하고 일부러 팽이를 계속해서 오른손으로 실패하다가 나중에 왼손으로 전환해서 성공했다는 점 그리고 프론트맨이 총을 쏠 때 왼손으로 쏘며 왼손잡이인 것도 노출되었죠 이러한 요소들이 어느 순간 기훈에게 플래시백으로 교체되며 영일이 프론트맨이었다는 것을 깨닫지 않을까 하고요 시즌2 최고의 씬스틸러 중 한 명이었던 금자는 아쉽지만 시즌3에선 5만 8천 퍼센트 확률로 사망하게 될 것 같습니다 모자 관계라는 설정상 아들을 위해 희생하면 금자가 죽게 될 것 같은데 아무래도 시즌3에 등장한 트롤리 게임의 희생자로서')"
      ]
     },
     "execution_count": 22,
     "metadata": {},
     "output_type": "execute_result"
    }
   ],
   "source": []
  }
 ],
 "metadata": {
  "kernelspec": {
   "display_name": "homework5",
   "language": "python",
   "name": "python3"
  },
  "language_info": {
   "codemirror_mode": {
    "name": "ipython",
    "version": 3
   },
   "file_extension": ".py",
   "mimetype": "text/x-python",
   "name": "python",
   "nbconvert_exporter": "python",
   "pygments_lexer": "ipython3",
   "version": "3.11.7"
  }
 },
 "nbformat": 4,
 "nbformat_minor": 2
}
