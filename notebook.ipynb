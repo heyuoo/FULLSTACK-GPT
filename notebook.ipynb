{
 "cells": [
  {
   "cell_type": "code",
   "execution_count": null,
   "metadata": {},
   "outputs": [
    {
     "name": "stdout",
     "output_type": "stream",
     "text": [
      "Elegant and clean,\n",
      "Python slithers through code with\n",
      "Graceful simplicity.This Haiku beautifully captures the essence of Python, a programming language known for its simplicity and readability.\n",
      "\n",
      "1. \"Elegant and clean,\" - Python code is often praised for its elegance and cleanliness. The language emphasizes readability and uses indentation to define code blocks, making it visually appealing and easy to understand.\n",
      "\n",
      "2. \"Python slithers through code with\" - The use of \"slithers\" here is a clever metaphor, suggesting that Python moves smoothly and effortlessly through code. This reflects Python's concise syntax and the way it allows developers to express complex ideas in just a few lines of code.\n",
      "\n",
      "3. \"Graceful simplicity.\" - The most defining characteristic of Python is its simplicity. The language is designed to be easy to learn and use, with a minimalist approach that allows developers to focus on solving problems rather than getting caught up in complex syntax or unnecessary details.\n",
      "\n",
      "Overall, this Haiku effectively conveys the key attributes of Python: elegance, readability, simplicity, and efficiency. It illustrates how Python stands out as a language that prioritizes clarity and ease of use, making it a popular choice for both beginners and experienced programmers alike."
     ]
    },
    {
     "data": {
      "text/plain": [
       "AIMessageChunk(content='This Haiku beautifully captures the essence of Python, a programming language known for its simplicity and readability.\\n\\n1. \"Elegant and clean,\" - Python code is often praised for its elegance and cleanliness. The language emphasizes readability and uses indentation to define code blocks, making it visually appealing and easy to understand.\\n\\n2. \"Python slithers through code with\" - The use of \"slithers\" here is a clever metaphor, suggesting that Python moves smoothly and effortlessly through code. This reflects Python\\'s concise syntax and the way it allows developers to express complex ideas in just a few lines of code.\\n\\n3. \"Graceful simplicity.\" - The most defining characteristic of Python is its simplicity. The language is designed to be easy to learn and use, with a minimalist approach that allows developers to focus on solving problems rather than getting caught up in complex syntax or unnecessary details.\\n\\nOverall, this Haiku effectively conveys the key attributes of Python: elegance, readability, simplicity, and efficiency. It illustrates how Python stands out as a language that prioritizes clarity and ease of use, making it a popular choice for both beginners and experienced programmers alike.')"
      ]
     },
     "execution_count": 6,
     "metadata": {},
     "output_type": "execute_result"
    }
   ],
   "source": [
    "from langchain.chat_models import ChatOpenAI\n",
    "from langchain.prompts import ChatPromptTemplate\n",
    "from langchain.callbacks import StreamingStdOutCallbackHandler\n",
    "\n",
    "\n",
    "chat = ChatOpenAI(\n",
    "    model=\"gpt-3.5-turbo\",\n",
    "    temperature=0.8,\n",
    "    streaming=True,\n",
    "    callbacks=[StreamingStdOutCallbackHandler()],\n",
    ")\n",
    "\n",
    "haiku_prompt = ChatPromptTemplate.from_messages(\n",
    "    [\n",
    "        (\n",
    "            \"system\",\n",
    "            (\n",
    "                \"You are a poet who creates the most beautiful Haikus in the\"\n",
    "                \" world. Write a three-line Haiku about the programming\"\n",
    "                \" language '{language}'. Focus on its core essence,\"\n",
    "                \" philosophy, or common usage traits.\"\n",
    "            ),\n",
    "        ),\n",
    "        (\"human\", \"Write a three-line Haiku about  {language}.\"),\n",
    "    ]\n",
    ")\n",
    "\n",
    "haiku_chain = haiku_prompt | chat\n",
    "\n",
    "haiku_exp_prompt = ChatPromptTemplate.from_messages(\n",
    "    [\n",
    "        (\n",
    "            \"system\",\n",
    "            (\n",
    "                \"Explain the Haiku below about the programming language\"\n",
    "                \" {haiku}. Provide a detailed analysis of its lines and how\"\n",
    "                \" they relate to the language's\"\n",
    "                \" characteristics.\"\n",
    "            ),\n",
    "        ),\n",
    "        (\"human\", \"{haiku}\"),\n",
    "    ]\n",
    ")\n",
    "\n",
    "haiku_exp_chain = haiku_exp_prompt | chat\n",
    "\n",
    "final_chain = {\"haiku\": haiku_chain} | haiku_exp_chain\n",
    "\n",
    "final_chain.invoke({\"language\": \"python\"})"
   ]
  },
  {
   "cell_type": "code",
   "execution_count": null,
   "metadata": {},
   "outputs": [],
   "source": []
  }
 ],
 "metadata": {
  "kernelspec": {
   "display_name": "env",
   "language": "python",
   "name": "python3"
  },
  "language_info": {
   "codemirror_mode": {
    "name": "ipython",
    "version": 3
   },
   "file_extension": ".py",
   "mimetype": "text/x-python",
   "name": "python",
   "nbconvert_exporter": "python",
   "pygments_lexer": "ipython3",
   "version": "3.11.7"
  }
 },
 "nbformat": 4,
 "nbformat_minor": 2
}
