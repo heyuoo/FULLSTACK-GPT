{
 "cells": [
  {
   "cell_type": "code",
   "execution_count": null,
   "metadata": {},
   "outputs": [
    {
     "name": "stdout",
     "output_type": "stream",
     "text": [
      "\n",
      "        Movie Title: The Matrix\n",
      "        Director: The Wachowskis\n",
      "        Main Cast: Keanu Reeves, Laurence Fishburne, Carrie-Anne Moss, Hugo Weaving\n",
      "        Budget: Approximately $63,000,000\n",
      "        Box Office: Approximately $463,500,000\n",
      "        Genre: Sci-Fi, Action\n",
      "        Synopsis: A computer hacker learns the truth about reality when he is contacted by mysterious rebels who reveal that the world as he knows it is a simulated reality created by sentient machines to subdue humanity."
     ]
    },
    {
     "data": {
      "text/plain": [
       "AIMessageChunk(content='\\n        Movie Title: The Matrix\\n        Director: The Wachowskis\\n        Main Cast: Keanu Reeves, Laurence Fishburne, Carrie-Anne Moss, Hugo Weaving\\n        Budget: Approximately $63,000,000\\n        Box Office: Approximately $463,500,000\\n        Genre: Sci-Fi, Action\\n        Synopsis: A computer hacker learns the truth about reality when he is contacted by mysterious rebels who reveal that the world as he knows it is a simulated reality created by sentient machines to subdue humanity.')"
      ]
     },
     "execution_count": 3,
     "metadata": {},
     "output_type": "execute_result"
    }
   ],
   "source": [
    "from langchain.memory import ConversationBufferMemory\n",
    "\n",
    "memory = ConversationBufferMemory(return_messages=True)\n",
    "\n",
    "memory.save_context({\"input\": \"Hi!\"}, {\"output\": \"How are you?\"})\n",
    "\n",
    "memory.load_memory_variables({})"
   ]
  }
 ],
 "metadata": {
  "kernelspec": {
   "display_name": "env",
   "language": "python",
   "name": "python3"
  },
  "language_info": {
   "codemirror_mode": {
    "name": "ipython",
    "version": 3
   },
   "file_extension": ".py",
   "mimetype": "text/x-python",
   "name": "python",
   "nbconvert_exporter": "python",
   "pygments_lexer": "ipython3",
   "version": "3.11.7"
  }
 },
 "nbformat": 4,
 "nbformat_minor": 2
}
