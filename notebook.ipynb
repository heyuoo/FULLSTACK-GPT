{
 "cells": [
  {
   "cell_type": "code",
   "execution_count": null,
   "metadata": {},
   "outputs": [
    {
     "name": "stderr",
     "output_type": "stream",
     "text": [
      "2024-12-09 17:30:43.501 \n",
      "  \u001b[33m\u001b[1mWarning:\u001b[0m to view this Streamlit app on a browser, run it with the following\n",
      "  command:\n",
      "\n",
      "    streamlit run c:\\Users\\ybr24\\FULLSTACK-GPT\\env\\Lib\\site-packages\\ipykernel_launcher.py [ARGUMENTS]\n"
     ]
    },
    {
     "data": {
      "text/plain": [
       "AIMessageChunk(content=\"For a vegetarian version of Bibimbap, you can easily substitute the beef with tofu or tempeh. Here's how you can prepare the tofu/tempeh as a replacement for the beef in this recipe:\\n\\nIngredients:\\n- 1/2 pound firm tofu or tempeh, thinly sliced\\n- 2 tablespoons soy sauce\\n- 1 tablespoon sesame oil\\n- Pinch of black pepper\\n\\nInstructions:\\n1. Marinate the tofu/tempeh: In a bowl, mix the tofu/tempeh slices with 2 tablespoons of soy sauce, 1 tablespoon of sesame oil, and a pinch of black pepper. Set aside to marinate for at least 15 minutes.\\n\\n2. Heat a pan over medium heat and add a little vegetable oil. Stir-fry the marinated tofu/tempeh until cooked through. Remove from the pan and set aside.\\n\\n3. Follow the rest of the instructions in the original recipe to prepare the vegetables, eggs, and assemble the Bibimbap.\\n\\nBy using tofu or tempeh as a substitute for the beef, you can still enjoy a flavorful and protein-rich Bibimbap while keeping it vegetarian-friendly.\")"
      ]
     },
     "execution_count": 1,
     "metadata": {},
     "output_type": "execute_result"
    }
   ],
   "source": [
    "from langchain.chat_models import ChatOpenAI\n",
    "from langchain.prompts import ChatPromptTemplate\n",
    "from langchain.callbacks import StreamingStdOutCallbackHandler\n",
    "\n",
    "\n",
    "chat = ChatOpenAI(\n",
    "    temperature=0.1,\n",
    "    streaming=True,\n",
    "    callbacks=[StreamingStdOutCallbackHandler()],\n",
    ")\n",
    "\n",
    "chef_prompt = ChatPromptTemplate.from_messages(\n",
    "    [\n",
    "        (\n",
    "            \"system\",\n",
    "            (\n",
    "                \"You are a world-class international chef. You create easy to\"\n",
    "                \" follow recipies for any type of cuisine with easy to find\"\n",
    "                \" ingredients.\"\n",
    "            ),\n",
    "        ),\n",
    "        (\"human\", \"I want to cook {cuisine} food.\"),\n",
    "    ]\n",
    ")\n",
    "\n",
    "chef_chain = chef_prompt | chat\n",
    "\n",
    "veg_chef_prompt = ChatPromptTemplate.from_messages(\n",
    "    [\n",
    "        (\n",
    "            \"system\",\n",
    "            (\n",
    "                \"You are a vegetarian chef specialized on making traditional\"\n",
    "                \" recipes vegetarian. You find alternative ingredients and\"\n",
    "                \" explain their preparation. You don't radically modify the\"\n",
    "                \" recipe. If there is no alternative for a food just say you\"\n",
    "                \" don't know how to recipe it.\"\n",
    "            ),\n",
    "        ),\n",
    "        (\"human\", \"{recipe}\"),\n",
    "    ]\n",
    ")\n",
    "\n",
    "veg_chain = veg_chef_prompt | chat\n",
    "\n",
    "final_chain = {\"recipe\": chef_chain} | veg_chain\n",
    "\n",
    "final_chain.invoke({\"cuisine\": \"Korean\"})"
   ]
  },
  {
   "cell_type": "code",
   "execution_count": null,
   "metadata": {},
   "outputs": [],
   "source": []
  }
 ],
 "metadata": {
  "kernelspec": {
   "display_name": "env",
   "language": "python",
   "name": "python3"
  },
  "language_info": {
   "codemirror_mode": {
    "name": "ipython",
    "version": 3
   },
   "file_extension": ".py",
   "mimetype": "text/x-python",
   "name": "python",
   "nbconvert_exporter": "python",
   "pygments_lexer": "ipython3",
   "version": "3.11.7"
  }
 },
 "nbformat": 4,
 "nbformat_minor": 2
}
