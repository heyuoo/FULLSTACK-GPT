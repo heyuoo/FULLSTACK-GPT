{
 "cells": [
  {
   "cell_type": "code",
   "execution_count": 214,
   "metadata": {},
   "outputs": [],
   "source": [
    "import openai as client\n",
    "\n",
    "# assistant = client.beta.assistants.create(\n",
    "#    name=\"Book Assistant2\",\n",
    "#    instructions=(\n",
    "#        \"You help users with their question on the files they upload.\"\n",
    "#    ),\n",
    "#    model=\"gpt-4o-mini\",\n",
    "#    tools=[{\"type\": \"file_search\"}],\n",
    "# )\n",
    "\n",
    "assistant_id = \"asst_PMX0zlhX3Hfg2P35jsAvJK3g\""
   ]
  },
  {
   "cell_type": "code",
   "execution_count": 235,
   "metadata": {},
   "outputs": [
    {
     "data": {
      "text/plain": [
       "Thread(id='thread_7yIHcJnhoSbDL8o39y6f7xbB', created_at=1735143550, metadata={}, object='thread', tool_resources=ToolResources(code_interpreter=None, file_search=None))"
      ]
     },
     "execution_count": 235,
     "metadata": {},
     "output_type": "execute_result"
    }
   ],
   "source": [
    "thread = client.beta.threads.create(\n",
    "    messages=[\n",
    "        {\n",
    "            \"role\": \"user\",\n",
    "            \"content\": \"I want you to help me with this file\",\n",
    "        }\n",
    "    ]\n",
    ")\n",
    "thread"
   ]
  },
  {
   "cell_type": "code",
   "execution_count": 237,
   "metadata": {},
   "outputs": [
    {
     "data": {
      "text/plain": [
       "FileObject(id='file-NujD8851jtVoEfTiEuZjmL', bytes=35537, created_at=1735143561, filename='chapter_one.txt', object='file', purpose='assistants', status='processed', status_details=None)"
      ]
     },
     "execution_count": 237,
     "metadata": {},
     "output_type": "execute_result"
    }
   ],
   "source": [
    "file = client.files.create(\n",
    "    file=client.file_from_path(\"./files/chapter_one.txt\"), purpose=\"assistants\"\n",
    ")\n",
    "file"
   ]
  },
  {
   "cell_type": "code",
   "execution_count": 236,
   "metadata": {},
   "outputs": [
    {
     "data": {
      "text/plain": [
       "Message(id='msg_qNuo3sKAh3RO7C0QLgunLf5D', assistant_id=None, attachments=[Attachment(file_id='file-9CvNWCTvZXQAcovovszJr9', tools=[AttachmentToolAssistantToolsFileSearchTypeOnly(type='file_search')])], completed_at=None, content=[TextContentBlock(text=Text(annotations=[], value='Please refer to the uploaded file for my question.'), type='text')], created_at=1735143557, incomplete_at=None, incomplete_details=None, metadata={}, object='thread.message', role='user', run_id=None, status=None, thread_id='thread_7yIHcJnhoSbDL8o39y6f7xbB')"
      ]
     },
     "execution_count": 236,
     "metadata": {},
     "output_type": "execute_result"
    }
   ],
   "source": [
    "client.beta.threads.messages.create(\n",
    "    thread_id=thread.id,\n",
    "    role=\"user\",\n",
    "    content=\"Please refer to the uploaded file for my question.\",\n",
    "    attachments=[\n",
    "        {\n",
    "            \"file_id\": file.id,\n",
    "            \"tools\": [\n",
    "                {\n",
    "                    \"type\": \"file_search\",\n",
    "                }\n",
    "            ],\n",
    "        }\n",
    "    ],\n",
    ")"
   ]
  },
  {
   "cell_type": "code",
   "execution_count": 242,
   "metadata": {},
   "outputs": [
    {
     "data": {
      "text/plain": [
       "Run(id='run_VUsPCVW9uDUVGxqYV4VQHNf3', assistant_id='asst_PMX0zlhX3Hfg2P35jsAvJK3g', cancelled_at=None, completed_at=None, created_at=1735143592, expires_at=1735144192, failed_at=None, incomplete_details=None, instructions='You help users with their question on the files they upload.', last_error=None, max_completion_tokens=None, max_prompt_tokens=None, metadata={}, model='gpt-4o-mini', object='thread.run', parallel_tool_calls=True, required_action=None, response_format='auto', started_at=None, status='queued', thread_id='thread_7yIHcJnhoSbDL8o39y6f7xbB', tool_choice='auto', tools=[FileSearchTool(type='file_search', file_search=FileSearch(max_num_results=None, ranking_options=FileSearchRankingOptions(score_threshold=0.0, ranker='default_2024_08_21')))], truncation_strategy=TruncationStrategy(type='auto', last_messages=None), usage=None, temperature=1.0, top_p=1.0, tool_resources={})"
      ]
     },
     "execution_count": 242,
     "metadata": {},
     "output_type": "execute_result"
    }
   ],
   "source": [
    "run = client.beta.threads.runs.create(\n",
    "    thread_id=thread.id,\n",
    "    assistant_id=assistant_id,\n",
    ")\n",
    "run"
   ]
  },
  {
   "cell_type": "code",
   "execution_count": 217,
   "metadata": {},
   "outputs": [],
   "source": [
    "def get_run(run_id, thread_id):\n",
    "    return client.beta.threads.runs.retrieve(\n",
    "        run_id=run_id,\n",
    "        thread_id=thread_id,\n",
    "    )\n",
    "\n",
    "\n",
    "def send_message(thread_id, content):\n",
    "    return client.beta.threads.messages.create(\n",
    "        thread_id=thread_id, role=\"user\", content=content\n",
    "    )\n",
    "\n",
    "\n",
    "def get_messages(thread_id):\n",
    "    messages = client.beta.threads.messages.list(thread_id=thread_id)\n",
    "    messages = list(messages)\n",
    "    messages.reverse()\n",
    "    for message in messages:\n",
    "        print(f\"{message.role}: {message.content[0].text.value}\")\n",
    "        for annotation in message.content[0].text.annotations:\n",
    "            print(f\"Source: {annotation.file_citation}\")"
   ]
  },
  {
   "cell_type": "code",
   "execution_count": 243,
   "metadata": {},
   "outputs": [
    {
     "data": {
      "text/plain": [
       "'completed'"
      ]
     },
     "execution_count": 243,
     "metadata": {},
     "output_type": "execute_result"
    }
   ],
   "source": [
    "get_run(run.id, thread.id).status"
   ]
  },
  {
   "cell_type": "code",
   "execution_count": 244,
   "metadata": {},
   "outputs": [
    {
     "name": "stdout",
     "output_type": "stream",
     "text": [
      "user: I want you to help me with this file\n",
      "user: Please refer to the uploaded file for my question.\n",
      "assistant: Please specify what question you have regarding the uploaded file, and I'll assist you accordingly.\n",
      "user: I want to know where does winston lives and how his apartment looks like.\n",
      "assistant: Winston lives in a place called Victory Mansions, which is described in a rather disparaging manner. The building is characterized by a glass door through which Winston enters, likely letting in gritty dust. The hallway has an unpleasant smell of boiled cabbage, and there is a large poster depicting the face of Big Brother at one end. The elevators are usually out of order, which requires Winston to walk seven flights of stairs to reach his apartment. Winston's physical condition (he has a varicose ulcer) makes this climb difficult, and he needs to rest several times on the way up【7:0†source】.\n",
      "\n",
      "Inside Winston's flat, he experiences a mix of oppressive technology and stark living conditions. There is a \"telescreen\" that continually broadcasts government propaganda and monitors him, preventing complete privacy. The living area is small and furnished minimally, suggesting a life of scarcity and surveillance【7:0†source】【7:1†source】【7:4†source】. The descriptions of his apartment reflect the grim societal conditions under which he lives, with pervasive monitoring and a lack of comfort or autonomy.\n",
      "Source: FileCitation(file_id='file-9CvNWCTvZXQAcovovszJr9')\n",
      "Source: FileCitation(file_id='file-9CvNWCTvZXQAcovovszJr9')\n",
      "Source: FileCitation(file_id='file-9CvNWCTvZXQAcovovszJr9')\n",
      "Source: FileCitation(file_id='file-9CvNWCTvZXQAcovovszJr9')\n"
     ]
    }
   ],
   "source": [
    "get_messages(thread.id)"
   ]
  },
  {
   "cell_type": "code",
   "execution_count": 241,
   "metadata": {},
   "outputs": [
    {
     "data": {
      "text/plain": [
       "Message(id='msg_9hW7ZwUYlqVCgZunINDVRA2D', assistant_id=None, attachments=[], completed_at=None, content=[TextContentBlock(text=Text(annotations=[], value='I want to know where does winston lives and how his apartment looks like.'), type='text')], created_at=1735143582, incomplete_at=None, incomplete_details=None, metadata={}, object='thread.message', role='user', run_id=None, status=None, thread_id='thread_7yIHcJnhoSbDL8o39y6f7xbB')"
      ]
     },
     "execution_count": 241,
     "metadata": {},
     "output_type": "execute_result"
    }
   ],
   "source": [
    "send_message(\n",
    "    thread_id=thread.id,\n",
    "    content=(\n",
    "        \"I want to know where does winston lives and how his apartment looks\"\n",
    "        \" like.\"\n",
    "    ),\n",
    ")"
   ]
  },
  {
   "cell_type": "code",
   "execution_count": null,
   "metadata": {},
   "outputs": [],
   "source": [
    "from langchain.document_loaders import WebBaseLoader\n",
    "from langchain.tools import DuckDuckGoSearchResults, WikipediaQueryRun\n",
    "from langchain.utilities import WikipediaAPIWrapper\n",
    "import json\n",
    "import time\n",
    "\n",
    "\n",
    "def duckduckgo_search(inputs):\n",
    "    query = inputs[\"query\"]\n",
    "    search = DuckDuckGoSearchResults()\n",
    "    return search.run(query)\n",
    "\n",
    "\n",
    "def wikipedia_search(inputs):\n",
    "    query = inputs[\"query\"]\n",
    "    wiki_api_wrapper = WikipediaAPIWrapper()\n",
    "    wiki = WikipediaQueryRun(api_wrapper=wiki_api_wrapper)\n",
    "    return wiki.run(query)\n",
    "\n",
    "\n",
    "def web_scraping(inputs):\n",
    "    url = inputs[\"url\"]\n",
    "    loader = WebBaseLoader([url])\n",
    "    docs = loader.load()\n",
    "    return \"\\n\\n\".join([doc.page_content for doc in docs])\n",
    "\n",
    "\n",
    "def save_to_txt(inputs):\n",
    "    text = inputs[\"text\"]\n",
    "    with open(\"research_results.txt\", \"w\") as file:\n",
    "        file.write(text)\n",
    "    return \"Research results saved to research_results.txt\"\n",
    "\n",
    "\n",
    "functions_map = {\n",
    "    \"DuckDuckGoSearchTool\": duckduckgo_search,\n",
    "    \"WikipediaSearchTool\": wikipedia_search,\n",
    "    \"WebScrapingTool\": web_scraping,\n",
    "    \"SaveToTXTTOOL\": save_to_txt,\n",
    "}\n",
    "\n",
    "\n",
    "functions = [\n",
    "    {\n",
    "        \"type\": \"function\",\n",
    "        \"function\": {\n",
    "            \"name\": \"DuckDuckGoSearchTool\",\n",
    "            \"description\": (\n",
    "                \"Perform web searches using DuckDuckGo. Input a query string.\"\n",
    "            ),\n",
    "            \"parameters\": {\n",
    "                \"type\": \"object\",\n",
    "                \"properties\": {\n",
    "                    \"query\": {\n",
    "                        \"type\": \"string\",\n",
    "                        \"description\": \"The query you will search for\",\n",
    "                    },\n",
    "                },\n",
    "                \"required\": [\"query\"],\n",
    "            },\n",
    "        },\n",
    "    },\n",
    "    {\n",
    "        \"type\": \"function\",\n",
    "        \"function\": {\n",
    "            \"name\": \"WikipediaSearchTool\",\n",
    "            \"description\": (\n",
    "                \"Perform searches on Wikipedia. Input a query string.\"\n",
    "            ),\n",
    "            \"parameters\": {\n",
    "                \"type\": \"object\",\n",
    "                \"properties\": {\n",
    "                    \"query\": {\n",
    "                        \"type\": \"string\",\n",
    "                        \"description\": (\n",
    "                            \"The query you will search for on Wikipedia\"\n",
    "                        ),\n",
    "                    },\n",
    "                },\n",
    "                \"required\": [\"query\"],\n",
    "            },\n",
    "        },\n",
    "    },\n",
    "    {\n",
    "        \"type\": \"function\",\n",
    "        \"function\": {\n",
    "            \"name\": \"WebScrapingTool\",\n",
    "            \"description\": \"Scrape content from a given URL.\",\n",
    "            \"parameters\": {\n",
    "                \"type\": \"object\",\n",
    "                \"properties\": {\n",
    "                    \"url\": {\n",
    "                        \"type\": \"string\",\n",
    "                        \"description\": (\n",
    "                            \"The URL of the website you want to scrape\"\n",
    "                        ),\n",
    "                    },\n",
    "                },\n",
    "                \"required\": [\"url\"],\n",
    "            },\n",
    "        },\n",
    "    },\n",
    "    {\n",
    "        \"type\": \"function\",\n",
    "        \"function\": {\n",
    "            \"name\": \"SaveToTXTTOOL\",\n",
    "            \"description\": \"Use this tool to save the content as a .txt file.\",\n",
    "            \"parameters\": {\n",
    "                \"type\": \"object\",\n",
    "                \"properties\": {\n",
    "                    \"text\": {\n",
    "                        \"type\": \"string\",\n",
    "                        \"description\": \"The text you will save to a file.\",\n",
    "                    },\n",
    "                },\n",
    "                \"required\": [\"text\"],\n",
    "            },\n",
    "        },\n",
    "    },\n",
    "]"
   ]
  },
  {
   "cell_type": "code",
   "execution_count": 3,
   "metadata": {},
   "outputs": [
    {
     "data": {
      "text/plain": [
       "Assistant(id='asst_IUuPboPffsaZWTfPupKiOtNt', created_at=1735388080, description=None, instructions='You are a research expert. Use Wikipedia or DuckDuckGo to gather information. Scrape content from relevant links and provide comprehensive answers. Save findings to a .txt file.', metadata={}, model='gpt-4o-mini', name='Search Assistant', object='assistant', tools=[FunctionTool(function=FunctionDefinition(name='DuckDuckGoSearchTool', description='Perform web searches using DuckDuckGo. Input a query string.', parameters={'type': 'object', 'properties': {'query': {'type': 'string', 'description': 'The query you will search for'}}, 'required': ['query']}, strict=False), type='function'), FunctionTool(function=FunctionDefinition(name='WikipediaSearchTool', description='Perform searches on Wikipedia. Input a query string.', parameters={'type': 'object', 'properties': {'query': {'type': 'string', 'description': 'The query you will search for on Wikipedia'}}, 'required': ['query']}, strict=False), type='function'), FunctionTool(function=FunctionDefinition(name='WebScrapingTool', description='Scrape content from a given URL.', parameters={'type': 'object', 'properties': {'url': {'type': 'string', 'description': 'The URL of the website you want to scrape'}}, 'required': ['url']}, strict=False), type='function'), FunctionTool(function=FunctionDefinition(name='SaveToTXTTOOL', description='Use this tool to save the content as a .txt file.', parameters={'type': 'object', 'properties': {'text': {'type': 'string', 'description': 'The text you will save to a file.'}}, 'required': ['text']}, strict=False), type='function')], response_format='auto', temperature=1.0, tool_resources=ToolResources(code_interpreter=None, file_search=None), top_p=1.0)"
      ]
     },
     "execution_count": 3,
     "metadata": {},
     "output_type": "execute_result"
    }
   ],
   "source": [
    "from openai import OpenAI\n",
    "\n",
    "client = OpenAI()\n",
    "\n",
    "assistant = client.beta.assistants.create(\n",
    "    name=\"Search Assistant\",\n",
    "    instructions=(\n",
    "        \"You are a research expert. Use Wikipedia or DuckDuckGo to\"\n",
    "        \" gather information. Scrape content from relevant links and\"\n",
    "        \" provide comprehensive answers. Save findings to a .txt file.\"\n",
    "    ),\n",
    "    tools=functions,\n",
    "    model=\"gpt-4o-mini\",\n",
    ")\n",
    "\n",
    "assistant"
   ]
  },
  {
   "cell_type": "markdown",
   "metadata": {},
   "source": []
  },
  {
   "cell_type": "markdown",
   "metadata": {},
   "source": []
  }
 ],
 "metadata": {
  "kernelspec": {
   "display_name": "homework5",
   "language": "python",
   "name": "python3"
  },
  "language_info": {
   "codemirror_mode": {
    "name": "ipython",
    "version": 3
   },
   "file_extension": ".py",
   "mimetype": "text/x-python",
   "name": "python",
   "nbconvert_exporter": "python",
   "pygments_lexer": "ipython3",
   "version": "3.11.7"
  }
 },
 "nbformat": 4,
 "nbformat_minor": 2
}
