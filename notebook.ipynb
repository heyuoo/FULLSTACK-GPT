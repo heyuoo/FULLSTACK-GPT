{
 "cells": [
  {
   "cell_type": "code",
   "execution_count": 3,
   "metadata": {},
   "outputs": [
    {
     "name": "stdout",
     "output_type": "stream",
     "text": [
      "\n",
      "        Movie Title: The Matrix\n",
      "        Director: The Wachowskis\n",
      "        Main Cast: Keanu Reeves, Laurence Fishburne, Carrie-Anne Moss, Hugo Weaving\n",
      "        Budget: Approximately $63,000,000\n",
      "        Box Office: Approximately $463,500,000\n",
      "        Genre: Sci-Fi, Action\n",
      "        Synopsis: A computer hacker learns the truth about reality when he is contacted by mysterious rebels who reveal that the world as he knows it is a simulated reality created by sentient machines to subdue humanity."
     ]
    },
    {
     "data": {
      "text/plain": [
       "AIMessageChunk(content='\\n        Movie Title: The Matrix\\n        Director: The Wachowskis\\n        Main Cast: Keanu Reeves, Laurence Fishburne, Carrie-Anne Moss, Hugo Weaving\\n        Budget: Approximately $63,000,000\\n        Box Office: Approximately $463,500,000\\n        Genre: Sci-Fi, Action\\n        Synopsis: A computer hacker learns the truth about reality when he is contacted by mysterious rebels who reveal that the world as he knows it is a simulated reality created by sentient machines to subdue humanity.')"
      ]
     },
     "execution_count": 3,
     "metadata": {},
     "output_type": "execute_result"
    }
   ],
   "source": [
    "from langchain.chat_models import ChatOpenAI\n",
    "from langchain.prompts.few_shot import FewShotChatMessagePromptTemplate\n",
    "from langchain.callbacks import StreamingStdOutCallbackHandler\n",
    "from langchain.prompts import ChatMessagePromptTemplate, ChatPromptTemplate\n",
    "\n",
    "\n",
    "chat = ChatOpenAI(\n",
    "    temperature=0.1,\n",
    "    streaming=True,\n",
    "    callbacks=[\n",
    "        StreamingStdOutCallbackHandler(),\n",
    "    ],\n",
    ")\n",
    "\n",
    "\n",
    "examples = [\n",
    "    {\n",
    "        \"movie_title\": \"The Godfather\",\n",
    "        \"movie_info\": \"\"\"\n",
    "        Movie Title: The Godfather\n",
    "        Director: Francis Ford Coppola\n",
    "        Main Cast: Marlon Brando, Al Pacino, James Caan, Diane Keaton\n",
    "        Budget: Approximately $6,000,000\n",
    "        Box Office: Approximately $250,000,000\n",
    "        Genre: Crime, Drama\n",
    "        Synopsis: The aging patriarch of a powerful crime family hands over control of his empire to his reluctant son, Michael. As Michael is drawn deeper into the family's legacy, he faces the consequences of power and betrayal.\"\"\",\n",
    "    },\n",
    "    {\n",
    "        \"movie_title\": \"Titanic\",\n",
    "        \"movie_info\": \"\"\"\n",
    "        Movie Title: Titanic\n",
    "        Director: James Cameron\n",
    "        Main Cast: Leonardo DiCaprio, Kate Winslet, Billy Zane, Kathy Bates\n",
    "        Budget: Approximately $200,000,000\n",
    "        Box Office: Approximately $2,200,000,000\n",
    "        Genre: Romance, Drama, Disaster\n",
    "        Synopsis: A young aristocrat falls in love with a poor artist aboard the ill-fated R.M.S. Titanic. Their romance is tested as tragedy strikes during the ship's maiden voyage.\"\"\",\n",
    "    },\n",
    "    {\n",
    "        \"movie_title\": \"Inception\",\n",
    "        \"movie_info\": \"\"\"\n",
    "        Movie Title: Inception\n",
    "        Director: Christopher Nolan\n",
    "        Main Cast: Leonardo DiCaprio, Joseph Gordon-Levitt, Ellen Page, Tom Hardy\n",
    "        Budget: Approximately $160,000,000\n",
    "        Box Office: Approximately $836,800,000\n",
    "        Genre: Sci-Fi, Action, Thriller\n",
    "        Synopsis: A thief named Cobb specializes in extracting information from people's dreams. He is given a challenging task to plant an idea in someone's mind, which requires an entirely new approach.\"\"\",\n",
    "    },\n",
    "]\n",
    "\n",
    "\n",
    "example_prompt = ChatPromptTemplate.from_messages(\n",
    "    [\n",
    "        (\"human\", \"What do you know about {movie_title}?\"),\n",
    "        (\"ai\", \"{movie_info}\"),\n",
    "    ]\n",
    ")\n",
    "\n",
    "example_prompt = FewShotChatMessagePromptTemplate(\n",
    "    example_prompt=example_prompt,\n",
    "    examples=examples,\n",
    ")\n",
    "\n",
    "final_prompt = ChatPromptTemplate.from_messages(\n",
    "    [\n",
    "        (\n",
    "            \"system\",\n",
    "            (\n",
    "                \"You are a famous movie information specialist, you give short\"\n",
    "                \" answers.\"\n",
    "            ),\n",
    "        ),\n",
    "        example_prompt,\n",
    "        (\"human\", \"What do you know about {movie_title}?\"),\n",
    "    ]\n",
    ")\n",
    "\n",
    "chain = final_prompt | chat\n",
    "\n",
    "chain.invoke({\"movie_title\": \"The Matrix\"})"
   ]
  }
 ],
 "metadata": {
  "kernelspec": {
   "display_name": "env",
   "language": "python",
   "name": "python3"
  },
  "language_info": {
   "codemirror_mode": {
    "name": "ipython",
    "version": 3
   },
   "file_extension": ".py",
   "mimetype": "text/x-python",
   "name": "python",
   "nbconvert_exporter": "python",
   "pygments_lexer": "ipython3",
   "version": "3.11.7"
  }
 },
 "nbformat": 4,
 "nbformat_minor": 2
}
